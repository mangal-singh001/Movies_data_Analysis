{
 "cells": [
  {
   "cell_type": "code",
   "execution_count": 41,
   "id": "ca967d59-37d6-4ac9-89d8-3731ed2fb343",
   "metadata": {},
   "outputs": [],
   "source": [
    "import pandas as pd\n",
    "import matplotlib.pyplot as plt"
   ]
  },
  {
   "cell_type": "code",
   "execution_count": 3,
   "id": "ddaa9541-60f7-4293-bdeb-936b3b05ccae",
   "metadata": {},
   "outputs": [
    {
     "name": "stdout",
     "output_type": "stream",
     "text": [
      "<class 'pandas.core.frame.DataFrame'>\n",
      "RangeIndex: 37 entries, 0 to 36\n",
      "Data columns (total 11 columns):\n",
      " #   Column        Non-Null Count  Dtype  \n",
      "---  ------        --------------  -----  \n",
      " 0   movie_id      37 non-null     int64  \n",
      " 1   title         37 non-null     object \n",
      " 2   industry      37 non-null     object \n",
      " 3   language      37 non-null     object \n",
      " 4   release_year  37 non-null     int64  \n",
      " 5   imdb_rating   36 non-null     float64\n",
      " 6   studio        34 non-null     object \n",
      " 7   budget        37 non-null     float64\n",
      " 8   revenue       37 non-null     float64\n",
      " 9   unit          37 non-null     object \n",
      " 10  currency      37 non-null     object \n",
      "dtypes: float64(3), int64(2), object(6)\n",
      "memory usage: 3.3+ KB\n",
      "None\n"
     ]
    }
   ],
   "source": [
    "df = pd.read_csv(r\"C:\\Users\\HP\\Desktop\\Data Analysis\\New folder\\Movies data Analysis\\movies_data.csv\")\n",
    "print(df.info())"
   ]
  },
  {
   "cell_type": "code",
   "execution_count": 4,
   "id": "e5778218",
   "metadata": {},
   "outputs": [
    {
     "name": "stdout",
     "output_type": "stream",
     "text": [
      "(37, 11)\n"
     ]
    }
   ],
   "source": [
    "print(df.shape)"
   ]
  },
  {
   "cell_type": "code",
   "execution_count": 7,
   "id": "2ebc9a22",
   "metadata": {},
   "outputs": [
    {
     "name": "stdout",
     "output_type": "stream",
     "text": [
      "   movie_id                                        title   industry language  \\\n",
      "0       101                             K.G.F: Chapter 2  Bollywood  Kannada   \n",
      "1       102  Doctor Strange in the Multiverse of Madness  Hollywood  English   \n",
      "2       103                        Thor: The Dark World   Hollywood  English   \n",
      "3       104                              Thor: Ragnarok   Hollywood  English   \n",
      "4       105                      Thor: Love and Thunder   Hollywood  English   \n",
      "\n",
      "   release_year  imdb_rating          studio  budget  revenue      unit  \\\n",
      "0          2022          8.4   Hombale Films     1.0     12.5  Billions   \n",
      "1          2022          7.0  Marvel Studios   200.0    954.8  Millions   \n",
      "2          2013          6.8  Marvel Studios   165.0    644.8  Millions   \n",
      "3          2017          7.9  Marvel Studios   180.0    854.0  Millions   \n",
      "4          2022          6.8  Marvel Studios   250.0    670.0  Millions   \n",
      "\n",
      "  currency  \n",
      "0      INR  \n",
      "1      USD  \n",
      "2      USD  \n",
      "3      USD  \n",
      "4      USD  \n"
     ]
    }
   ],
   "source": [
    "print(df.head(5))"
   ]
  },
  {
   "cell_type": "code",
   "execution_count": null,
   "id": "07b987a2",
   "metadata": {},
   "outputs": [
    {
     "name": "stdout",
     "output_type": "stream",
     "text": [
      "    movie_id                                        title   industry language  release_year  imdb_rating                     studio    budget   revenue       unit currency year_classify\n",
      "0        101                             K.G.F: Chapter 2  Bollywood  Kannada          2022          8.4              Hombale Films      1.00      12.5   Billions      INR    after_year\n",
      "1        102  Doctor Strange in the Multiverse of Madness  Hollywood  English          2022          7.0             Marvel Studios    200.00     954.8   Millions      USD    after_year\n",
      "2        103                        Thor: The Dark World   Hollywood  English          2013          6.8             Marvel Studios    165.00     644.8   Millions      USD    after_year\n",
      "3        104                              Thor: Ragnarok   Hollywood  English          2017          7.9             Marvel Studios    180.00     854.0   Millions      USD    after_year\n",
      "4        105                      Thor: Love and Thunder   Hollywood  English          2022          6.8             Marvel Studios    250.00     670.0   Millions      USD    after_year\n",
      "5        111                     The Shawshank Redemption  Hollywood  English          1994          9.3  Castle Rock Entertainment     25.00      73.3   Millions      USD   Before_Year\n",
      "6        113                                 Interstellar  Hollywood  English          2014          8.6      Warner Bros. Pictures    165.00     701.8   Millions      USD    after_year\n",
      "7        115                     The Pursuit of Happyness  Hollywood  English          2006          8.0          Columbia Pictures     55.00     307.1   Millions      USD    after_year\n",
      "8        116                                    Gladiator  Hollywood  English          2000          8.5       Universal Pictures      103.00     460.5   Millions      USD    after_year\n",
      "9        117                                      Titanic  Hollywood  English          1997          7.9         Paramount Pictures    200.00    2202.0   Millions      USD   Before_Year\n",
      "10       118                        It's a Wonderful Life  Hollywood  English          1946          8.6              Liberty Films      3.18       3.3   Millions      USD   Before_Year\n",
      "11       119                                       Avatar  Hollywood  English          2009          7.8           20th Century Fox    237.00    2847.0   Millions      USD    after_year\n",
      "12       120                                The Godfather  Hollywood  English          1972          9.2         Paramount Pictures      7.20     291.0   Millions      USD   Before_Year\n",
      "13       121                              The Dark Knight  Hollywood  English          2008          9.0                    Syncopy    185.00    1006.0   Millions      USD    after_year\n",
      "14       122                             Schindler's List  Hollywood  English          1993          9.0         Universal Pictures     22.00     322.2   Millions      USD   Before_Year\n",
      "15       123                                Jurassic Park  Hollywood  English          1993          8.2         Universal Pictures     63.00    1046.0   Millions      USD   Before_Year\n",
      "16       124                                     Parasite  Hollywood  English          2019          8.5                        NaN     15.50     263.1   Millions      USD    after_year\n",
      "17       125                            Avengers: Endgame  Hollywood  English          2019          8.4             Marvel Studios    400.00    2798.0   Millions      USD    after_year\n",
      "18       126                       Avengers: Infinity War  Hollywood  English          2018          8.4             Marvel Studios    400.00    2048.0   Millions      USD    after_year\n",
      "19       137           Captain America: The First Avenger  Hollywood  English          2011          6.9             Marvel Studios    216.70     370.6   Millions      USD    after_year\n",
      "20       138          Captain America: The Winter Soldier  Hollywood  English          2014          7.8             Marvel Studios    177.00     714.4   Millions      USD    after_year\n",
      "21       107                  Dilwale Dulhania Le Jayenge  Bollywood    Hindi          1995          8.0             Yash Raj Films    400.00    2000.0   Millions      INR   Before_Year\n",
      "22       108                                     3 Idiots  Bollywood    Hindi          2009          8.4         Vinod Chopra Films    550.00    4000.0   Millions      INR    after_year\n",
      "23       109                     Kabhi Khushi Kabhie Gham  Bollywood    Hindi          2001          7.4         Dharma Productions    390.00    1360.0   Millions      INR    after_year\n",
      "24       110                             Bajirao Mastani   Bollywood    Hindi          2015          7.2                        NaN      1.40       3.5   Billions      INR    after_year\n",
      "25       128                             Taare Zameen Par  Bollywood    Hindi          2007          8.3                        NaN    120.00    1350.0   Millions      INR    after_year\n",
      "26       129                          Munna Bhai M.B.B.S.  Bollywood    Hindi          2003          8.1   Vinod Chopra Productions    100.00     410.0   Millions      INR    after_year\n",
      "27       130                                           PK  Bollywood    Hindi          2014          8.1         Vinod Chopra Films    850.00    8540.0   Millions      INR    after_year\n",
      "28       131                                        Sanju  Bollywood    Hindi          2018          NaN         Vinod Chopra Films      1.00       5.9   Billions      INR    after_year\n",
      "29       135                            The Kashmir Files  Bollywood    Hindi          2022          8.3                Zee Studios    250.00    3409.0   Millions      INR    after_year\n",
      "30       136                            Bajrangi Bhaijaan  Bollywood    Hindi          2015          8.1          Salman Khan Films    900.00   11690.0   Millions      INR    after_year\n",
      "31       139                                       Race 3  Bollywood    Hindi          2018          1.9          Salman Khan Films      1.80       3.1   Billions      INR    after_year\n",
      "32       140                                    Shershaah  Bollywood    Hindi          2021          8.4         Dharma Productions    500.00     950.0   Millions      INR    after_year\n",
      "33       127                              Pather Panchali  Bollywood  Bengali          1955          8.3  Government of West Bengal  70000.00  100000.0  Thousands      INR   Before_Year\n",
      "34       132                    Pushpa: The Rise - Part 1  Bollywood   Telugu          2021          7.6        Mythri Movie Makers      2.00       3.6   Billions      INR    after_year\n",
      "35       133                                          RRR  Bollywood   Telugu          2022          8.0          DVV Entertainment      5.50      12.0   Billions      INR    after_year\n",
      "36       134                     Baahubali: The Beginning  Bollywood   Telugu          2015          8.0           Arka Media Works      1.80       6.5   Billions      INR    after_year\n"
     ]
    }
   ],
   "source": [
    "# Make a new column of name year_classify which movie is release after 2000 and before 2000\n",
    "df['year_classify'] = df.apply([lambda x: \"Before_Year\" if x['release_year'] < 2000 else \"after_year\"],axis = 1)\n",
    "print(df.to_string())\n"
   ]
  },
  {
   "cell_type": "code",
   "execution_count": null,
   "id": "e94b78ba",
   "metadata": {},
   "outputs": [
    {
     "name": "stdout",
     "output_type": "stream",
     "text": [
      "    movie_id                                        title   industry language  release_year  imdb_rating                     studio  budget  revenue      unit currency year_classify\n",
      "1        102  Doctor Strange in the Multiverse of Madness  Hollywood  English          2022          7.0             Marvel Studios  200.00    954.8  Millions      USD    after_year\n",
      "2        103                        Thor: The Dark World   Hollywood  English          2013          6.8             Marvel Studios  165.00    644.8  Millions      USD    after_year\n",
      "3        104                              Thor: Ragnarok   Hollywood  English          2017          7.9             Marvel Studios  180.00    854.0  Millions      USD    after_year\n",
      "4        105                      Thor: Love and Thunder   Hollywood  English          2022          6.8             Marvel Studios  250.00    670.0  Millions      USD    after_year\n",
      "5        111                     The Shawshank Redemption  Hollywood  English          1994          9.3  Castle Rock Entertainment   25.00     73.3  Millions      USD   Before_Year\n",
      "6        113                                 Interstellar  Hollywood  English          2014          8.6      Warner Bros. Pictures  165.00    701.8  Millions      USD    after_year\n",
      "7        115                     The Pursuit of Happyness  Hollywood  English          2006          8.0          Columbia Pictures   55.00    307.1  Millions      USD    after_year\n",
      "8        116                                    Gladiator  Hollywood  English          2000          8.5       Universal Pictures    103.00    460.5  Millions      USD    after_year\n",
      "9        117                                      Titanic  Hollywood  English          1997          7.9         Paramount Pictures  200.00   2202.0  Millions      USD   Before_Year\n",
      "10       118                        It's a Wonderful Life  Hollywood  English          1946          8.6              Liberty Films    3.18      3.3  Millions      USD   Before_Year\n",
      "11       119                                       Avatar  Hollywood  English          2009          7.8           20th Century Fox  237.00   2847.0  Millions      USD    after_year\n",
      "12       120                                The Godfather  Hollywood  English          1972          9.2         Paramount Pictures    7.20    291.0  Millions      USD   Before_Year\n",
      "13       121                              The Dark Knight  Hollywood  English          2008          9.0                    Syncopy  185.00   1006.0  Millions      USD    after_year\n",
      "14       122                             Schindler's List  Hollywood  English          1993          9.0         Universal Pictures   22.00    322.2  Millions      USD   Before_Year\n",
      "15       123                                Jurassic Park  Hollywood  English          1993          8.2         Universal Pictures   63.00   1046.0  Millions      USD   Before_Year\n",
      "16       124                                     Parasite  Hollywood  English          2019          8.5                        NaN   15.50    263.1  Millions      USD    after_year\n",
      "17       125                            Avengers: Endgame  Hollywood  English          2019          8.4             Marvel Studios  400.00   2798.0  Millions      USD    after_year\n",
      "18       126                       Avengers: Infinity War  Hollywood  English          2018          8.4             Marvel Studios  400.00   2048.0  Millions      USD    after_year\n",
      "19       137           Captain America: The First Avenger  Hollywood  English          2011          6.9             Marvel Studios  216.70    370.6  Millions      USD    after_year\n",
      "20       138          Captain America: The Winter Soldier  Hollywood  English          2014          7.8             Marvel Studios  177.00    714.4  Millions      USD    after_year\n"
     ]
    }
   ],
   "source": [
    "# Print all the Hollywood  movie\n",
    "print(df[df['industry'] == \"Hollywood\"].to_string())"
   ]
  },
  {
   "cell_type": "code",
   "execution_count": 8,
   "id": "72638c95",
   "metadata": {},
   "outputs": [
    {
     "name": "stdout",
     "output_type": "stream",
     "text": [
      "    movie_id                        title   industry language  release_year  imdb_rating                     studio   budget   revenue       unit currency year_classify\n",
      "0        101             K.G.F: Chapter 2  Bollywood  Kannada          2022          8.4              Hombale Films      1.0      12.5   Billions      INR    after_year\n",
      "21       107  Dilwale Dulhania Le Jayenge  Bollywood    Hindi          1995          8.0             Yash Raj Films    400.0    2000.0   Millions      INR   Before_Year\n",
      "22       108                     3 Idiots  Bollywood    Hindi          2009          8.4         Vinod Chopra Films    550.0    4000.0   Millions      INR    after_year\n",
      "23       109     Kabhi Khushi Kabhie Gham  Bollywood    Hindi          2001          7.4         Dharma Productions    390.0    1360.0   Millions      INR    after_year\n",
      "24       110             Bajirao Mastani   Bollywood    Hindi          2015          7.2                        NaN      1.4       3.5   Billions      INR    after_year\n",
      "25       128             Taare Zameen Par  Bollywood    Hindi          2007          8.3                        NaN    120.0    1350.0   Millions      INR    after_year\n",
      "26       129          Munna Bhai M.B.B.S.  Bollywood    Hindi          2003          8.1   Vinod Chopra Productions    100.0     410.0   Millions      INR    after_year\n",
      "27       130                           PK  Bollywood    Hindi          2014          8.1         Vinod Chopra Films    850.0    8540.0   Millions      INR    after_year\n",
      "28       131                        Sanju  Bollywood    Hindi          2018          NaN         Vinod Chopra Films      1.0       5.9   Billions      INR    after_year\n",
      "29       135            The Kashmir Files  Bollywood    Hindi          2022          8.3                Zee Studios    250.0    3409.0   Millions      INR    after_year\n",
      "30       136            Bajrangi Bhaijaan  Bollywood    Hindi          2015          8.1          Salman Khan Films    900.0   11690.0   Millions      INR    after_year\n",
      "31       139                       Race 3  Bollywood    Hindi          2018          1.9          Salman Khan Films      1.8       3.1   Billions      INR    after_year\n",
      "32       140                    Shershaah  Bollywood    Hindi          2021          8.4         Dharma Productions    500.0     950.0   Millions      INR    after_year\n",
      "33       127              Pather Panchali  Bollywood  Bengali          1955          8.3  Government of West Bengal  70000.0  100000.0  Thousands      INR   Before_Year\n",
      "34       132    Pushpa: The Rise - Part 1  Bollywood   Telugu          2021          7.6        Mythri Movie Makers      2.0       3.6   Billions      INR    after_year\n",
      "35       133                          RRR  Bollywood   Telugu          2022          8.0          DVV Entertainment      5.5      12.0   Billions      INR    after_year\n",
      "36       134     Baahubali: The Beginning  Bollywood   Telugu          2015          8.0           Arka Media Works      1.8       6.5   Billions      INR    after_year\n"
     ]
    }
   ],
   "source": [
    "# Print all the Bollywood movie\n",
    "print(df[df['industry'] == 'Bollywood'].to_string())"
   ]
  },
  {
   "cell_type": "code",
   "execution_count": null,
   "id": "e587b328",
   "metadata": {},
   "outputs": [
    {
     "name": "stdout",
     "output_type": "stream",
     "text": [
      "['Kannada' 'English' 'Hindi' 'Bengali' 'Telugu']\n"
     ]
    }
   ],
   "source": [
    "# Checks the movies is made in how many languages \n",
    "print(df['language'].unique())"
   ]
  },
  {
   "cell_type": "code",
   "execution_count": 11,
   "id": "4a9bb307",
   "metadata": {},
   "outputs": [
    {
     "name": "stdout",
     "output_type": "stream",
     "text": [
      "    movie_id                                        title   industry language  release_year  imdb_rating                 studio  budget  revenue      unit currency year_classify\n",
      "0        101                             K.G.F: Chapter 2  Bollywood  Kannada          2022          8.4          Hombale Films     1.0     12.5  Billions      INR    after_year\n",
      "1        102  Doctor Strange in the Multiverse of Madness  Hollywood  English          2022          7.0         Marvel Studios   200.0    954.8  Millions      USD    after_year\n",
      "2        103                        Thor: The Dark World   Hollywood  English          2013          6.8         Marvel Studios   165.0    644.8  Millions      USD    after_year\n",
      "3        104                              Thor: Ragnarok   Hollywood  English          2017          7.9         Marvel Studios   180.0    854.0  Millions      USD    after_year\n",
      "4        105                      Thor: Love and Thunder   Hollywood  English          2022          6.8         Marvel Studios   250.0    670.0  Millions      USD    after_year\n",
      "6        113                                 Interstellar  Hollywood  English          2014          8.6  Warner Bros. Pictures   165.0    701.8  Millions      USD    after_year\n",
      "16       124                                     Parasite  Hollywood  English          2019          8.5                    NaN    15.5    263.1  Millions      USD    after_year\n",
      "17       125                            Avengers: Endgame  Hollywood  English          2019          8.4         Marvel Studios   400.0   2798.0  Millions      USD    after_year\n",
      "18       126                       Avengers: Infinity War  Hollywood  English          2018          8.4         Marvel Studios   400.0   2048.0  Millions      USD    after_year\n",
      "19       137           Captain America: The First Avenger  Hollywood  English          2011          6.9         Marvel Studios   216.7    370.6  Millions      USD    after_year\n",
      "20       138          Captain America: The Winter Soldier  Hollywood  English          2014          7.8         Marvel Studios   177.0    714.4  Millions      USD    after_year\n",
      "24       110                             Bajirao Mastani   Bollywood    Hindi          2015          7.2                    NaN     1.4      3.5  Billions      INR    after_year\n",
      "27       130                                           PK  Bollywood    Hindi          2014          8.1     Vinod Chopra Films   850.0   8540.0  Millions      INR    after_year\n",
      "28       131                                        Sanju  Bollywood    Hindi          2018          NaN     Vinod Chopra Films     1.0      5.9  Billions      INR    after_year\n",
      "29       135                            The Kashmir Files  Bollywood    Hindi          2022          8.3            Zee Studios   250.0   3409.0  Millions      INR    after_year\n",
      "30       136                            Bajrangi Bhaijaan  Bollywood    Hindi          2015          8.1      Salman Khan Films   900.0  11690.0  Millions      INR    after_year\n",
      "31       139                                       Race 3  Bollywood    Hindi          2018          1.9      Salman Khan Films     1.8      3.1  Billions      INR    after_year\n",
      "32       140                                    Shershaah  Bollywood    Hindi          2021          8.4     Dharma Productions   500.0    950.0  Millions      INR    after_year\n",
      "34       132                    Pushpa: The Rise - Part 1  Bollywood   Telugu          2021          7.6    Mythri Movie Makers     2.0      3.6  Billions      INR    after_year\n",
      "35       133                                          RRR  Bollywood   Telugu          2022          8.0      DVV Entertainment     5.5     12.0  Billions      INR    after_year\n",
      "36       134                     Baahubali: The Beginning  Bollywood   Telugu          2015          8.0       Arka Media Works     1.8      6.5  Billions      INR    after_year\n"
     ]
    }
   ],
   "source": [
    "# Filter the movie data release year after 2010\n",
    "filtered_data = df[df['release_year'] >= 2010]\n",
    "print(filtered_data.to_string())"
   ]
  },
  {
   "cell_type": "code",
   "execution_count": 15,
   "id": "9945098e",
   "metadata": {},
   "outputs": [
    {
     "name": "stdout",
     "output_type": "stream",
     "text": [
      "    movie_id                      title   industry language  release_year  imdb_rating               studio  budget  revenue      unit currency year_classify\n",
      "0        101           K.G.F: Chapter 2  Bollywood  Kannada          2022          8.4        Hombale Films     1.0     12.5  Billions      INR    after_year\n",
      "24       110           Bajirao Mastani   Bollywood    Hindi          2015          7.2                  NaN     1.4      3.5  Billions      INR    after_year\n",
      "27       130                         PK  Bollywood    Hindi          2014          8.1   Vinod Chopra Films   850.0   8540.0  Millions      INR    after_year\n",
      "28       131                      Sanju  Bollywood    Hindi          2018          NaN   Vinod Chopra Films     1.0      5.9  Billions      INR    after_year\n",
      "29       135          The Kashmir Files  Bollywood    Hindi          2022          8.3          Zee Studios   250.0   3409.0  Millions      INR    after_year\n",
      "30       136          Bajrangi Bhaijaan  Bollywood    Hindi          2015          8.1    Salman Khan Films   900.0  11690.0  Millions      INR    after_year\n",
      "31       139                     Race 3  Bollywood    Hindi          2018          1.9    Salman Khan Films     1.8      3.1  Billions      INR    after_year\n",
      "32       140                  Shershaah  Bollywood    Hindi          2021          8.4   Dharma Productions   500.0    950.0  Millions      INR    after_year\n",
      "34       132  Pushpa: The Rise - Part 1  Bollywood   Telugu          2021          7.6  Mythri Movie Makers     2.0      3.6  Billions      INR    after_year\n",
      "35       133                        RRR  Bollywood   Telugu          2022          8.0    DVV Entertainment     5.5     12.0  Billions      INR    after_year\n",
      "36       134   Baahubali: The Beginning  Bollywood   Telugu          2015          8.0     Arka Media Works     1.8      6.5  Billions      INR    after_year\n"
     ]
    }
   ],
   "source": [
    "# Filter the movie data release year after 2010 and the Bollywood movie\n",
    "filtered_data = df[df['release_year'] >= 2010]\n",
    "data = filtered_data[filtered_data['industry']=='Bollywood']\n",
    "print(data.to_string())"
   ]
  },
  {
   "cell_type": "code",
   "execution_count": 20,
   "id": "6a576ab0",
   "metadata": {},
   "outputs": [
    {
     "name": "stdout",
     "output_type": "stream",
     "text": [
      "    movie_id                                        title   industry language  release_year  imdb_rating                     studio    budget   revenue       unit currency year_classify\n",
      "5        111                     The Shawshank Redemption  Hollywood  English          1994          9.3  Castle Rock Entertainment     25.00      73.3   Millions      USD   Before_Year\n",
      "12       120                                The Godfather  Hollywood  English          1972          9.2         Paramount Pictures      7.20     291.0   Millions      USD   Before_Year\n",
      "14       122                             Schindler's List  Hollywood  English          1993          9.0         Universal Pictures     22.00     322.2   Millions      USD   Before_Year\n",
      "13       121                              The Dark Knight  Hollywood  English          2008          9.0                    Syncopy    185.00    1006.0   Millions      USD    after_year\n",
      "10       118                        It's a Wonderful Life  Hollywood  English          1946          8.6              Liberty Films      3.18       3.3   Millions      USD   Before_Year\n",
      "6        113                                 Interstellar  Hollywood  English          2014          8.6      Warner Bros. Pictures    165.00     701.8   Millions      USD    after_year\n",
      "16       124                                     Parasite  Hollywood  English          2019          8.5                        NaN     15.50     263.1   Millions      USD    after_year\n",
      "8        116                                    Gladiator  Hollywood  English          2000          8.5       Universal Pictures      103.00     460.5   Millions      USD    after_year\n",
      "18       126                       Avengers: Infinity War  Hollywood  English          2018          8.4             Marvel Studios    400.00    2048.0   Millions      USD    after_year\n",
      "17       125                            Avengers: Endgame  Hollywood  English          2019          8.4             Marvel Studios    400.00    2798.0   Millions      USD    after_year\n",
      "32       140                                    Shershaah  Bollywood    Hindi          2021          8.4         Dharma Productions    500.00     950.0   Millions      INR    after_year\n",
      "0        101                             K.G.F: Chapter 2  Bollywood  Kannada          2022          8.4              Hombale Films      1.00      12.5   Billions      INR    after_year\n",
      "22       108                                     3 Idiots  Bollywood    Hindi          2009          8.4         Vinod Chopra Films    550.00    4000.0   Millions      INR    after_year\n",
      "25       128                             Taare Zameen Par  Bollywood    Hindi          2007          8.3                        NaN    120.00    1350.0   Millions      INR    after_year\n",
      "33       127                              Pather Panchali  Bollywood  Bengali          1955          8.3  Government of West Bengal  70000.00  100000.0  Thousands      INR   Before_Year\n",
      "29       135                            The Kashmir Files  Bollywood    Hindi          2022          8.3                Zee Studios    250.00    3409.0   Millions      INR    after_year\n",
      "15       123                                Jurassic Park  Hollywood  English          1993          8.2         Universal Pictures     63.00    1046.0   Millions      USD   Before_Year\n",
      "26       129                          Munna Bhai M.B.B.S.  Bollywood    Hindi          2003          8.1   Vinod Chopra Productions    100.00     410.0   Millions      INR    after_year\n",
      "27       130                                           PK  Bollywood    Hindi          2014          8.1         Vinod Chopra Films    850.00    8540.0   Millions      INR    after_year\n",
      "30       136                            Bajrangi Bhaijaan  Bollywood    Hindi          2015          8.1          Salman Khan Films    900.00   11690.0   Millions      INR    after_year\n",
      "7        115                     The Pursuit of Happyness  Hollywood  English          2006          8.0          Columbia Pictures     55.00     307.1   Millions      USD    after_year\n",
      "35       133                                          RRR  Bollywood   Telugu          2022          8.0          DVV Entertainment      5.50      12.0   Billions      INR    after_year\n",
      "21       107                  Dilwale Dulhania Le Jayenge  Bollywood    Hindi          1995          8.0             Yash Raj Films    400.00    2000.0   Millions      INR   Before_Year\n",
      "36       134                     Baahubali: The Beginning  Bollywood   Telugu          2015          8.0           Arka Media Works      1.80       6.5   Billions      INR    after_year\n",
      "3        104                              Thor: Ragnarok   Hollywood  English          2017          7.9             Marvel Studios    180.00     854.0   Millions      USD    after_year\n",
      "9        117                                      Titanic  Hollywood  English          1997          7.9         Paramount Pictures    200.00    2202.0   Millions      USD   Before_Year\n",
      "11       119                                       Avatar  Hollywood  English          2009          7.8           20th Century Fox    237.00    2847.0   Millions      USD    after_year\n",
      "20       138          Captain America: The Winter Soldier  Hollywood  English          2014          7.8             Marvel Studios    177.00     714.4   Millions      USD    after_year\n",
      "34       132                    Pushpa: The Rise - Part 1  Bollywood   Telugu          2021          7.6        Mythri Movie Makers      2.00       3.6   Billions      INR    after_year\n",
      "23       109                     Kabhi Khushi Kabhie Gham  Bollywood    Hindi          2001          7.4         Dharma Productions    390.00    1360.0   Millions      INR    after_year\n",
      "24       110                             Bajirao Mastani   Bollywood    Hindi          2015          7.2                        NaN      1.40       3.5   Billions      INR    after_year\n",
      "1        102  Doctor Strange in the Multiverse of Madness  Hollywood  English          2022          7.0             Marvel Studios    200.00     954.8   Millions      USD    after_year\n",
      "19       137           Captain America: The First Avenger  Hollywood  English          2011          6.9             Marvel Studios    216.70     370.6   Millions      USD    after_year\n",
      "2        103                        Thor: The Dark World   Hollywood  English          2013          6.8             Marvel Studios    165.00     644.8   Millions      USD    after_year\n",
      "4        105                      Thor: Love and Thunder   Hollywood  English          2022          6.8             Marvel Studios    250.00     670.0   Millions      USD    after_year\n",
      "31       139                                       Race 3  Bollywood    Hindi          2018          1.9          Salman Khan Films      1.80       3.1   Billions      INR    after_year\n",
      "28       131                                        Sanju  Bollywood    Hindi          2018          NaN         Vinod Chopra Films      1.00       5.9   Billions      INR    after_year\n"
     ]
    }
   ],
   "source": [
    "# Sort the movies data by imbd_rating \n",
    "data = df.sort_values(by='imdb_rating',ascending=False)\n",
    "print(data.to_string())"
   ]
  },
  {
   "cell_type": "code",
   "execution_count": null,
   "id": "5d5223f0",
   "metadata": {},
   "outputs": [
    {
     "name": "stdout",
     "output_type": "stream",
     "text": [
      "Requirement already satisfied: ipython in c:\\users\\hp\\desktop\\languages\\python\\venv\\lib\\site-packages (9.3.0)\n",
      "Requirement already satisfied: colorama in c:\\users\\hp\\desktop\\languages\\python\\venv\\lib\\site-packages (from ipython) (0.4.6)\n",
      "Requirement already satisfied: decorator in c:\\users\\hp\\desktop\\languages\\python\\venv\\lib\\site-packages (from ipython) (5.2.1)\n",
      "Requirement already satisfied: ipython-pygments-lexers in c:\\users\\hp\\desktop\\languages\\python\\venv\\lib\\site-packages (from ipython) (1.1.1)\n",
      "Requirement already satisfied: jedi>=0.16 in c:\\users\\hp\\desktop\\languages\\python\\venv\\lib\\site-packages (from ipython) (0.19.2)\n",
      "Requirement already satisfied: matplotlib-inline in c:\\users\\hp\\desktop\\languages\\python\\venv\\lib\\site-packages (from ipython) (0.1.7)\n",
      "Requirement already satisfied: prompt_toolkit<3.1.0,>=3.0.41 in c:\\users\\hp\\desktop\\languages\\python\\venv\\lib\\site-packages (from ipython) (3.0.51)\n",
      "Requirement already satisfied: pygments>=2.4.0 in c:\\users\\hp\\desktop\\languages\\python\\venv\\lib\\site-packages (from ipython) (2.19.1)\n",
      "Requirement already satisfied: stack_data in c:\\users\\hp\\desktop\\languages\\python\\venv\\lib\\site-packages (from ipython) (0.6.3)\n",
      "Requirement already satisfied: traitlets>=5.13.0 in c:\\users\\hp\\desktop\\languages\\python\\venv\\lib\\site-packages (from ipython) (5.14.3)\n",
      "Requirement already satisfied: typing_extensions>=4.6 in c:\\users\\hp\\desktop\\languages\\python\\venv\\lib\\site-packages (from ipython) (4.14.0)\n",
      "Requirement already satisfied: parso<0.9.0,>=0.8.4 in c:\\users\\hp\\desktop\\languages\\python\\venv\\lib\\site-packages (from jedi>=0.16->ipython) (0.8.4)\n",
      "Requirement already satisfied: wcwidth in c:\\users\\hp\\desktop\\languages\\python\\venv\\lib\\site-packages (from prompt_toolkit<3.1.0,>=3.0.41->ipython) (0.2.13)\n",
      "Requirement already satisfied: executing>=1.2.0 in c:\\users\\hp\\desktop\\languages\\python\\venv\\lib\\site-packages (from stack_data->ipython) (2.2.0)\n",
      "Requirement already satisfied: asttokens>=2.1.0 in c:\\users\\hp\\desktop\\languages\\python\\venv\\lib\\site-packages (from stack_data->ipython) (3.0.0)\n",
      "Requirement already satisfied: pure-eval in c:\\users\\hp\\desktop\\languages\\python\\venv\\lib\\site-packages (from stack_data->ipython) (0.2.3)\n"
     ]
    },
    {
     "name": "stderr",
     "output_type": "stream",
     "text": [
      "\n",
      "[notice] A new release of pip is available: 25.0.1 -> 25.1.1\n",
      "[notice] To update, run: python.exe -m pip install --upgrade pip\n"
     ]
    }
   ],
   "source": [
    "\n",
    "\n",
    "\n"
   ]
  },
  {
   "cell_type": "code",
   "execution_count": 47,
   "id": "6a00358a",
   "metadata": {},
   "outputs": [
    {
     "data": {
      "image/png": "[encoded data removed]",
      "text/plain": [
       "<Figure size 1000x600 with 1 Axes>"
      ]
     },
     "metadata": {},
     "output_type": "display_data"
    }
   ],
   "source": [
    "# Graph between the imdb rating and budget\n",
    "plt.figure(figsize=(10,6))\n",
    "plt.bar(df['imdb_rating'],df['budget'],color='skyblue')\n",
    "plt.xlabel('imdb_rating')\n",
    "plt.ylabel('budget')\n",
    "plt.title(\"Graph between IMDB rating and Budget\")\n",
    "plt.tight_layout()\n",
    "plt.show()"
   ]
  },
  {
   "cell_type": "code",
   "execution_count": 49,
   "id": "0157eff4",
   "metadata": {},
   "outputs": [
    {
     "name": "stdout",
     "output_type": "stream",
     "text": [
      "    movie_id                                        title   industry language  release_year  imdb_rating                     studio    budget   revenue       unit currency year_classify    Profit\n",
      "0        101                             K.G.F: Chapter 2  Bollywood  Kannada          2022          8.4              Hombale Films      1.00      12.5   Billions      INR    after_year     11.50\n",
      "1        102  Doctor Strange in the Multiverse of Madness  Hollywood  English          2022          7.0             Marvel Studios    200.00     954.8   Millions      USD    after_year    754.80\n",
      "2        103                        Thor: The Dark World   Hollywood  English          2013          6.8             Marvel Studios    165.00     644.8   Millions      USD    after_year    479.80\n",
      "3        104                              Thor: Ragnarok   Hollywood  English          2017          7.9             Marvel Studios    180.00     854.0   Millions      USD    after_year    674.00\n",
      "4        105                      Thor: Love and Thunder   Hollywood  English          2022          6.8             Marvel Studios    250.00     670.0   Millions      USD    after_year    420.00\n",
      "5        111                     The Shawshank Redemption  Hollywood  English          1994          9.3  Castle Rock Entertainment     25.00      73.3   Millions      USD   Before_Year     48.30\n",
      "6        113                                 Interstellar  Hollywood  English          2014          8.6      Warner Bros. Pictures    165.00     701.8   Millions      USD    after_year    536.80\n",
      "7        115                     The Pursuit of Happyness  Hollywood  English          2006          8.0          Columbia Pictures     55.00     307.1   Millions      USD    after_year    252.10\n",
      "8        116                                    Gladiator  Hollywood  English          2000          8.5       Universal Pictures      103.00     460.5   Millions      USD    after_year    357.50\n",
      "9        117                                      Titanic  Hollywood  English          1997          7.9         Paramount Pictures    200.00    2202.0   Millions      USD   Before_Year   2002.00\n",
      "10       118                        It's a Wonderful Life  Hollywood  English          1946          8.6              Liberty Films      3.18       3.3   Millions      USD   Before_Year      0.12\n",
      "11       119                                       Avatar  Hollywood  English          2009          7.8           20th Century Fox    237.00    2847.0   Millions      USD    after_year   2610.00\n",
      "12       120                                The Godfather  Hollywood  English          1972          9.2         Paramount Pictures      7.20     291.0   Millions      USD   Before_Year    283.80\n",
      "13       121                              The Dark Knight  Hollywood  English          2008          9.0                    Syncopy    185.00    1006.0   Millions      USD    after_year    821.00\n",
      "14       122                             Schindler's List  Hollywood  English          1993          9.0         Universal Pictures     22.00     322.2   Millions      USD   Before_Year    300.20\n",
      "15       123                                Jurassic Park  Hollywood  English          1993          8.2         Universal Pictures     63.00    1046.0   Millions      USD   Before_Year    983.00\n",
      "16       124                                     Parasite  Hollywood  English          2019          8.5                        NaN     15.50     263.1   Millions      USD    after_year    247.60\n",
      "17       125                            Avengers: Endgame  Hollywood  English          2019          8.4             Marvel Studios    400.00    2798.0   Millions      USD    after_year   2398.00\n",
      "18       126                       Avengers: Infinity War  Hollywood  English          2018          8.4             Marvel Studios    400.00    2048.0   Millions      USD    after_year   1648.00\n",
      "19       137           Captain America: The First Avenger  Hollywood  English          2011          6.9             Marvel Studios    216.70     370.6   Millions      USD    after_year    153.90\n",
      "20       138          Captain America: The Winter Soldier  Hollywood  English          2014          7.8             Marvel Studios    177.00     714.4   Millions      USD    after_year    537.40\n",
      "21       107                  Dilwale Dulhania Le Jayenge  Bollywood    Hindi          1995          8.0             Yash Raj Films    400.00    2000.0   Millions      INR   Before_Year   1600.00\n",
      "22       108                                     3 Idiots  Bollywood    Hindi          2009          8.4         Vinod Chopra Films    550.00    4000.0   Millions      INR    after_year   3450.00\n",
      "23       109                     Kabhi Khushi Kabhie Gham  Bollywood    Hindi          2001          7.4         Dharma Productions    390.00    1360.0   Millions      INR    after_year    970.00\n",
      "24       110                             Bajirao Mastani   Bollywood    Hindi          2015          7.2                        NaN      1.40       3.5   Billions      INR    after_year      2.10\n",
      "25       128                             Taare Zameen Par  Bollywood    Hindi          2007          8.3                        NaN    120.00    1350.0   Millions      INR    after_year   1230.00\n",
      "26       129                          Munna Bhai M.B.B.S.  Bollywood    Hindi          2003          8.1   Vinod Chopra Productions    100.00     410.0   Millions      INR    after_year    310.00\n",
      "27       130                                           PK  Bollywood    Hindi          2014          8.1         Vinod Chopra Films    850.00    8540.0   Millions      INR    after_year   7690.00\n",
      "28       131                                        Sanju  Bollywood    Hindi          2018          NaN         Vinod Chopra Films      1.00       5.9   Billions      INR    after_year      4.90\n",
      "29       135                            The Kashmir Files  Bollywood    Hindi          2022          8.3                Zee Studios    250.00    3409.0   Millions      INR    after_year   3159.00\n",
      "30       136                            Bajrangi Bhaijaan  Bollywood    Hindi          2015          8.1          Salman Khan Films    900.00   11690.0   Millions      INR    after_year  10790.00\n",
      "31       139                                       Race 3  Bollywood    Hindi          2018          1.9          Salman Khan Films      1.80       3.1   Billions      INR    after_year      1.30\n",
      "32       140                                    Shershaah  Bollywood    Hindi          2021          8.4         Dharma Productions    500.00     950.0   Millions      INR    after_year    450.00\n",
      "33       127                              Pather Panchali  Bollywood  Bengali          1955          8.3  Government of West Bengal  70000.00  100000.0  Thousands      INR   Before_Year  30000.00\n",
      "34       132                    Pushpa: The Rise - Part 1  Bollywood   Telugu          2021          7.6        Mythri Movie Makers      2.00       3.6   Billions      INR    after_year      1.60\n",
      "35       133                                          RRR  Bollywood   Telugu          2022          8.0          DVV Entertainment      5.50      12.0   Billions      INR    after_year      6.50\n",
      "36       134                     Baahubali: The Beginning  Bollywood   Telugu          2015          8.0           Arka Media Works      1.80       6.5   Billions      INR    after_year      4.70\n"
     ]
    }
   ],
   "source": [
    "# Make a new column of profit\n",
    "df['Profit'] = df.apply([lambda x : x['revenue'] - x['budget']],axis=1)\n",
    "print(df.to_string())"
   ]
  },
  {
   "cell_type": "code",
   "execution_count": null,
   "id": "f46ef959",
   "metadata": {},
   "outputs": [
    {
     "name": "stdout",
     "output_type": "stream",
     "text": [
      "Key Bollywood\n",
      "Data     movie_id                        title   industry language  release_year  imdb_rating                     studio   budget   revenue       unit currency year_classify   Profit\n",
      "0        101             K.G.F: Chapter 2  Bollywood  Kannada          2022          8.4              Hombale Films      1.0      12.5   Billions      INR    after_year     11.5\n",
      "21       107  Dilwale Dulhania Le Jayenge  Bollywood    Hindi          1995          8.0             Yash Raj Films    400.0    2000.0   Millions      INR   Before_Year   1600.0\n",
      "22       108                     3 Idiots  Bollywood    Hindi          2009          8.4         Vinod Chopra Films    550.0    4000.0   Millions      INR    after_year   3450.0\n",
      "23       109     Kabhi Khushi Kabhie Gham  Bollywood    Hindi          2001          7.4         Dharma Productions    390.0    1360.0   Millions      INR    after_year    970.0\n",
      "24       110             Bajirao Mastani   Bollywood    Hindi          2015          7.2                        NaN      1.4       3.5   Billions      INR    after_year      2.1\n",
      "25       128             Taare Zameen Par  Bollywood    Hindi          2007          8.3                        NaN    120.0    1350.0   Millions      INR    after_year   1230.0\n",
      "26       129          Munna Bhai M.B.B.S.  Bollywood    Hindi          2003          8.1   Vinod Chopra Productions    100.0     410.0   Millions      INR    after_year    310.0\n",
      "27       130                           PK  Bollywood    Hindi          2014          8.1         Vinod Chopra Films    850.0    8540.0   Millions      INR    after_year   7690.0\n",
      "28       131                        Sanju  Bollywood    Hindi          2018          NaN         Vinod Chopra Films      1.0       5.9   Billions      INR    after_year      4.9\n",
      "29       135            The Kashmir Files  Bollywood    Hindi          2022          8.3                Zee Studios    250.0    3409.0   Millions      INR    after_year   3159.0\n",
      "30       136            Bajrangi Bhaijaan  Bollywood    Hindi          2015          8.1          Salman Khan Films    900.0   11690.0   Millions      INR    after_year  10790.0\n",
      "31       139                       Race 3  Bollywood    Hindi          2018          1.9          Salman Khan Films      1.8       3.1   Billions      INR    after_year      1.3\n",
      "32       140                    Shershaah  Bollywood    Hindi          2021          8.4         Dharma Productions    500.0     950.0   Millions      INR    after_year    450.0\n",
      "33       127              Pather Panchali  Bollywood  Bengali          1955          8.3  Government of West Bengal  70000.0  100000.0  Thousands      INR   Before_Year  30000.0\n",
      "34       132    Pushpa: The Rise - Part 1  Bollywood   Telugu          2021          7.6        Mythri Movie Makers      2.0       3.6   Billions      INR    after_year      1.6\n",
      "35       133                          RRR  Bollywood   Telugu          2022          8.0          DVV Entertainment      5.5      12.0   Billions      INR    after_year      6.5\n",
      "36       134     Baahubali: The Beginning  Bollywood   Telugu          2015          8.0           Arka Media Works      1.8       6.5   Billions      INR    after_year      4.7\n",
      "Key Hollywood\n",
      "Data     movie_id                                        title   industry language  release_year  imdb_rating                     studio  budget  revenue      unit currency year_classify   Profit\n",
      "1        102  Doctor Strange in the Multiverse of Madness  Hollywood  English          2022          7.0             Marvel Studios  200.00    954.8  Millions      USD    after_year   754.80\n",
      "2        103                        Thor: The Dark World   Hollywood  English          2013          6.8             Marvel Studios  165.00    644.8  Millions      USD    after_year   479.80\n",
      "3        104                              Thor: Ragnarok   Hollywood  English          2017          7.9             Marvel Studios  180.00    854.0  Millions      USD    after_year   674.00\n",
      "4        105                      Thor: Love and Thunder   Hollywood  English          2022          6.8             Marvel Studios  250.00    670.0  Millions      USD    after_year   420.00\n",
      "5        111                     The Shawshank Redemption  Hollywood  English          1994          9.3  Castle Rock Entertainment   25.00     73.3  Millions      USD   Before_Year    48.30\n",
      "6        113                                 Interstellar  Hollywood  English          2014          8.6      Warner Bros. Pictures  165.00    701.8  Millions      USD    after_year   536.80\n",
      "7        115                     The Pursuit of Happyness  Hollywood  English          2006          8.0          Columbia Pictures   55.00    307.1  Millions      USD    after_year   252.10\n",
      "8        116                                    Gladiator  Hollywood  English          2000          8.5       Universal Pictures    103.00    460.5  Millions      USD    after_year   357.50\n",
      "9        117                                      Titanic  Hollywood  English          1997          7.9         Paramount Pictures  200.00   2202.0  Millions      USD   Before_Year  2002.00\n",
      "10       118                        It's a Wonderful Life  Hollywood  English          1946          8.6              Liberty Films    3.18      3.3  Millions      USD   Before_Year     0.12\n",
      "11       119                                       Avatar  Hollywood  English          2009          7.8           20th Century Fox  237.00   2847.0  Millions      USD    after_year  2610.00\n",
      "12       120                                The Godfather  Hollywood  English          1972          9.2         Paramount Pictures    7.20    291.0  Millions      USD   Before_Year   283.80\n",
      "13       121                              The Dark Knight  Hollywood  English          2008          9.0                    Syncopy  185.00   1006.0  Millions      USD    after_year   821.00\n",
      "14       122                             Schindler's List  Hollywood  English          1993          9.0         Universal Pictures   22.00    322.2  Millions      USD   Before_Year   300.20\n",
      "15       123                                Jurassic Park  Hollywood  English          1993          8.2         Universal Pictures   63.00   1046.0  Millions      USD   Before_Year   983.00\n",
      "16       124                                     Parasite  Hollywood  English          2019          8.5                        NaN   15.50    263.1  Millions      USD    after_year   247.60\n",
      "17       125                            Avengers: Endgame  Hollywood  English          2019          8.4             Marvel Studios  400.00   2798.0  Millions      USD    after_year  2398.00\n",
      "18       126                       Avengers: Infinity War  Hollywood  English          2018          8.4             Marvel Studios  400.00   2048.0  Millions      USD    after_year  1648.00\n",
      "19       137           Captain America: The First Avenger  Hollywood  English          2011          6.9             Marvel Studios  216.70    370.6  Millions      USD    after_year   153.90\n",
      "20       138          Captain America: The Winter Soldier  Hollywood  English          2014          7.8             Marvel Studios  177.00    714.4  Millions      USD    after_year   537.40\n",
      "industry\n",
      "Bollywood    17\n",
      "Hollywood    20\n",
      "dtype: int64\n",
      "    movie_id                        title   industry language  release_year  \\\n",
      "0        101             K.G.F: Chapter 2  Bollywood  Kannada          2022   \n",
      "21       107  Dilwale Dulhania Le Jayenge  Bollywood    Hindi          1995   \n",
      "22       108                     3 Idiots  Bollywood    Hindi          2009   \n",
      "23       109     Kabhi Khushi Kabhie Gham  Bollywood    Hindi          2001   \n",
      "24       110             Bajirao Mastani   Bollywood    Hindi          2015   \n",
      "25       128             Taare Zameen Par  Bollywood    Hindi          2007   \n",
      "26       129          Munna Bhai M.B.B.S.  Bollywood    Hindi          2003   \n",
      "27       130                           PK  Bollywood    Hindi          2014   \n",
      "28       131                        Sanju  Bollywood    Hindi          2018   \n",
      "29       135            The Kashmir Files  Bollywood    Hindi          2022   \n",
      "30       136            Bajrangi Bhaijaan  Bollywood    Hindi          2015   \n",
      "31       139                       Race 3  Bollywood    Hindi          2018   \n",
      "32       140                    Shershaah  Bollywood    Hindi          2021   \n",
      "33       127              Pather Panchali  Bollywood  Bengali          1955   \n",
      "34       132    Pushpa: The Rise - Part 1  Bollywood   Telugu          2021   \n",
      "35       133                          RRR  Bollywood   Telugu          2022   \n",
      "36       134     Baahubali: The Beginning  Bollywood   Telugu          2015   \n",
      "\n",
      "    imdb_rating                     studio   budget   revenue       unit  \\\n",
      "0           8.4              Hombale Films      1.0      12.5   Billions   \n",
      "21          8.0             Yash Raj Films    400.0    2000.0   Millions   \n",
      "22          8.4         Vinod Chopra Films    550.0    4000.0   Millions   \n",
      "23          7.4         Dharma Productions    390.0    1360.0   Millions   \n",
      "24          7.2                        NaN      1.4       3.5   Billions   \n",
      "25          8.3                        NaN    120.0    1350.0   Millions   \n",
      "26          8.1   Vinod Chopra Productions    100.0     410.0   Millions   \n",
      "27          8.1         Vinod Chopra Films    850.0    8540.0   Millions   \n",
      "28          NaN         Vinod Chopra Films      1.0       5.9   Billions   \n",
      "29          8.3                Zee Studios    250.0    3409.0   Millions   \n",
      "30          8.1          Salman Khan Films    900.0   11690.0   Millions   \n",
      "31          1.9          Salman Khan Films      1.8       3.1   Billions   \n",
      "32          8.4         Dharma Productions    500.0     950.0   Millions   \n",
      "33          8.3  Government of West Bengal  70000.0  100000.0  Thousands   \n",
      "34          7.6        Mythri Movie Makers      2.0       3.6   Billions   \n",
      "35          8.0          DVV Entertainment      5.5      12.0   Billions   \n",
      "36          8.0           Arka Media Works      1.8       6.5   Billions   \n",
      "\n",
      "   currency year_classify   Profit  \n",
      "0       INR    after_year     11.5  \n",
      "21      INR   Before_Year   1600.0  \n",
      "22      INR    after_year   3450.0  \n",
      "23      INR    after_year    970.0  \n",
      "24      INR    after_year      2.1  \n",
      "25      INR    after_year   1230.0  \n",
      "26      INR    after_year    310.0  \n",
      "27      INR    after_year   7690.0  \n",
      "28      INR    after_year      4.9  \n",
      "29      INR    after_year   3159.0  \n",
      "30      INR    after_year  10790.0  \n",
      "31      INR    after_year      1.3  \n",
      "32      INR    after_year    450.0  \n",
      "33      INR   Before_Year  30000.0  \n",
      "34      INR    after_year      1.6  \n",
      "35      INR    after_year      6.5  \n",
      "36      INR    after_year      4.7  \n"
     ]
    }
   ],
   "source": [
    "\n",
    "#  Group by concept is used in it \n",
    "\n",
    "g = df.groupby('industry')\n",
    "for key,data in g:\n",
    "    print(\"Key\",key)\n",
    "    print(\"Data\",data.to_string())\n",
    "print(g.size())"
   ]
  },
  {
   "cell_type": "code",
   "execution_count": 60,
   "id": "b06d0268",
   "metadata": {},
   "outputs": [
    {
     "name": "stdout",
     "output_type": "stream",
     "text": [
      "key average\n",
      "data     movie_id                                        title   industry language  release_year  imdb_rating              studio  budget  revenue      unit currency year_classify  Profit\n",
      "1        102  Doctor Strange in the Multiverse of Madness  Hollywood  English          2022          7.0      Marvel Studios   200.0    954.8  Millions      USD    after_year   754.8\n",
      "2        103                        Thor: The Dark World   Hollywood  English          2013          6.8      Marvel Studios   165.0    644.8  Millions      USD    after_year   479.8\n",
      "3        104                              Thor: Ragnarok   Hollywood  English          2017          7.9      Marvel Studios   180.0    854.0  Millions      USD    after_year   674.0\n",
      "4        105                      Thor: Love and Thunder   Hollywood  English          2022          6.8      Marvel Studios   250.0    670.0  Millions      USD    after_year   420.0\n",
      "9        117                                      Titanic  Hollywood  English          1997          7.9  Paramount Pictures   200.0   2202.0  Millions      USD   Before_Year  2002.0\n",
      "11       119                                       Avatar  Hollywood  English          2009          7.8    20th Century Fox   237.0   2847.0  Millions      USD    after_year  2610.0\n",
      "19       137           Captain America: The First Avenger  Hollywood  English          2011          6.9      Marvel Studios   216.7    370.6  Millions      USD    after_year   153.9\n",
      "20       138          Captain America: The Winter Soldier  Hollywood  English          2014          7.8      Marvel Studios   177.0    714.4  Millions      USD    after_year   537.4\n",
      "key good\n",
      "data     movie_id                     title   industry language  release_year  imdb_rating                     studio  budget  revenue      unit currency year_classify   Profit\n",
      "5        111  The Shawshank Redemption  Hollywood  English          1994          9.3  Castle Rock Entertainment   25.00     73.3  Millions      USD   Before_Year    48.30\n",
      "6        113              Interstellar  Hollywood  English          2014          8.6      Warner Bros. Pictures  165.00    701.8  Millions      USD    after_year   536.80\n",
      "7        115  The Pursuit of Happyness  Hollywood  English          2006          8.0          Columbia Pictures   55.00    307.1  Millions      USD    after_year   252.10\n",
      "8        116                 Gladiator  Hollywood  English          2000          8.5       Universal Pictures    103.00    460.5  Millions      USD    after_year   357.50\n",
      "10       118     It's a Wonderful Life  Hollywood  English          1946          8.6              Liberty Films    3.18      3.3  Millions      USD   Before_Year     0.12\n",
      "12       120             The Godfather  Hollywood  English          1972          9.2         Paramount Pictures    7.20    291.0  Millions      USD   Before_Year   283.80\n",
      "13       121           The Dark Knight  Hollywood  English          2008          9.0                    Syncopy  185.00   1006.0  Millions      USD    after_year   821.00\n",
      "14       122          Schindler's List  Hollywood  English          1993          9.0         Universal Pictures   22.00    322.2  Millions      USD   Before_Year   300.20\n",
      "15       123             Jurassic Park  Hollywood  English          1993          8.2         Universal Pictures   63.00   1046.0  Millions      USD   Before_Year   983.00\n",
      "16       124                  Parasite  Hollywood  English          2019          8.5                        NaN   15.50    263.1  Millions      USD    after_year   247.60\n",
      "17       125         Avengers: Endgame  Hollywood  English          2019          8.4             Marvel Studios  400.00   2798.0  Millions      USD    after_year  2398.00\n",
      "18       126    Avengers: Infinity War  Hollywood  English          2018          8.4             Marvel Studios  400.00   2048.0  Millions      USD    after_year  1648.00\n"
     ]
    }
   ],
   "source": [
    "\n",
    "#  Grouping the values by the custom method \n",
    "\n",
    "\n",
    "def grouper(data,idx,col):\n",
    "    value = data[col].loc[idx]\n",
    "    if 1 <= value <=3.9:\n",
    "        return 'poor'\n",
    "    elif 4<= value <= 7.9:\n",
    "        return 'average'\n",
    "    elif 8<= value <= 10:\n",
    "        return 'good'\n",
    "    else:\n",
    "        return 'others'\n",
    "        \n",
    "g = data.groupby(lambda idx: grouper(data,idx,'imdb_rating'))\n",
    "for key,data in g:\n",
    "    print('key',key)\n",
    "    print('data',data.to_string())\n",
    "    "
   ]
  },
  {
   "cell_type": "code",
   "execution_count": null,
   "id": "88f64b79",
   "metadata": {},
   "outputs": [],
   "source": []
  }
 ],
 "metadata": {
  "kernelspec": {
   "display_name": "venv",
   "language": "python",
   "name": "python3"
  },
  "language_info": {
   "codemirror_mode": {
    "name": "ipython",
    "version": 3
   },
   "file_extension": ".py",
   "mimetype": "text/x-python",
   "name": "python",
   "nbconvert_exporter": "python",
   "pygments_lexer": "ipython3",
   "version": "3.11.4"
  }
 },
 "nbformat": 4,
 "nbformat_minor": 5
}
